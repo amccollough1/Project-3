{
 "cells": [
  {
   "cell_type": "markdown",
   "id": "c83f4096",
   "metadata": {},
   "source": [
    "mongoimport --type csv -d DC_Marvel -c characters --headerline --drop filename.csv"
   ]
  },
  {
   "cell_type": "code",
   "execution_count": null,
   "id": "8e18db56",
   "metadata": {},
   "outputs": [],
   "source": [
    "# Import dependencies\n",
    "from pymongo import MongoClient\n",
    "from pprint import pprint"
   ]
  },
  {
   "cell_type": "code",
   "execution_count": null,
   "id": "3bb55200",
   "metadata": {},
   "outputs": [],
   "source": [
    "# Create an instance of MongoClient\n",
    "mongo = MongoClient(port=27017)"
   ]
  },
  {
   "cell_type": "code",
   "execution_count": null,
   "id": "85c18969",
   "metadata": {},
   "outputs": [],
   "source": [
    "# confirm that our new database was created\n",
    "print(mongo.list_database_names())"
   ]
  },
  {
   "cell_type": "code",
   "execution_count": null,
   "id": "b3a5ae26",
   "metadata": {},
   "outputs": [],
   "source": [
    "# assign the database to a variable name\n",
    "\n",
    "db = mongo['DC_Marvel']"
   ]
  },
  {
   "cell_type": "code",
   "execution_count": null,
   "id": "bd089be4",
   "metadata": {},
   "outputs": [],
   "source": [
    "# review the collections in our new database\n",
    "print(db.list_collection_names())"
   ]
  },
  {
   "cell_type": "code",
   "execution_count": null,
   "id": "1d92ee36",
   "metadata": {},
   "outputs": [],
   "source": [
    "# review a document in the DCmarvel collection\n",
    "pprint(db.DCmarvel.find_one())"
   ]
  },
  {
   "cell_type": "code",
   "execution_count": null,
   "id": "f1103982",
   "metadata": {},
   "outputs": [],
   "source": [
    "#assign collection to a variable\n",
    "comics = db['character']"
   ]
  },
  {
   "cell_type": "code",
   "execution_count": null,
   "id": "b05c1b9b",
   "metadata": {},
   "outputs": [],
   "source": [
    "#find out how many documents have Universe as \"Marvel\"\n",
    "query = {'Universe':'Marvel'}\n",
    "results = list(comics.find(query))\n",
    "print(len(results))\n"
   ]
  },
  {
   "cell_type": "code",
   "execution_count": null,
   "id": "3e735860",
   "metadata": {},
   "outputs": [],
   "source": [
    "#find out how many documents have Universe as \"DC\"\n",
    "query = {'Universe':'DC'}\n",
    "results = list(comics.find(query))\n",
    "print(len(results))\n"
   ]
  },
  {
   "cell_type": "code",
   "execution_count": null,
   "id": "09c8624b",
   "metadata": {},
   "outputs": [],
   "source": []
  }
 ],
 "metadata": {
  "kernelspec": {
   "display_name": "Python 3 (ipykernel)",
   "language": "python",
   "name": "python3"
  },
  "language_info": {
   "codemirror_mode": {
    "name": "ipython",
    "version": 3
   },
   "file_extension": ".py",
   "mimetype": "text/x-python",
   "name": "python",
   "nbconvert_exporter": "python",
   "pygments_lexer": "ipython3",
   "version": "3.10.11"
  }
 },
 "nbformat": 4,
 "nbformat_minor": 5
}
