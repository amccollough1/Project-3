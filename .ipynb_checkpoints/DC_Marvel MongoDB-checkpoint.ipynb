{
 "cells": [
  {
   "cell_type": "markdown",
   "id": "0062b172",
   "metadata": {},
   "source": [
    "mongoimport --type csv -d [insert file name] -c DCmarvel --headerline --drop customer_database.csv"
   ]
  },
  {
   "cell_type": "code",
   "execution_count": null,
   "id": "a2ba408d",
   "metadata": {},
   "outputs": [],
   "source": [
    "# Import dependencies\n",
    "from pymongo import MongoClient\n",
    "from pprint import pprint"
   ]
  },
  {
   "cell_type": "code",
   "execution_count": null,
   "id": "ec8860b4",
   "metadata": {},
   "outputs": [],
   "source": [
    "# Create an instance of MongoClient\n",
    "mongo = MongoClient(port=27017)"
   ]
  },
  {
   "cell_type": "code",
   "execution_count": null,
   "id": "52d54da9",
   "metadata": {},
   "outputs": [],
   "source": [
    "# confirm that our new database was created\n",
    "print(mongo.list_database_names())"
   ]
  },
  {
   "cell_type": "code",
   "execution_count": null,
   "id": "1c00e34b",
   "metadata": {},
   "outputs": [],
   "source": [
    "# assign the database to a variable name\n",
    "\n",
    "db = mongo['']"
   ]
  },
  {
   "cell_type": "code",
   "execution_count": null,
   "id": "073884a4",
   "metadata": {},
   "outputs": [],
   "source": [
    "# review the collections in our new database\n",
    "print(db.list_collection_names())"
   ]
  },
  {
   "cell_type": "code",
   "execution_count": null,
   "id": "7ce59b55",
   "metadata": {},
   "outputs": [],
   "source": [
    "# review a document in the DCmarvel collection\n",
    "pprint(db.DCmarvel.find_one())"
   ]
  },
  {
   "cell_type": "code",
   "execution_count": null,
   "id": "d0eb7750",
   "metadata": {},
   "outputs": [],
   "source": [
    "#assign collection to a variable\n",
    "comics = db['DCmarvel']"
   ]
  },
  {
   "cell_type": "code",
   "execution_count": null,
   "id": "e3e390aa",
   "metadata": {},
   "outputs": [],
   "source": [
    "#find out how many documents have Universe as \"Marvel\"\n",
    "query = {'Universe':'Marvel'}\n",
    "results = list(establishments.find(query))\n",
    "print(len(results))\n"
   ]
  },
  {
   "cell_type": "code",
   "execution_count": null,
   "id": "f0ff90b9",
   "metadata": {},
   "outputs": [],
   "source": [
    "#find out how many documents have Universe as \"DC\"\n",
    "query = {'Universe':'DC'}\n",
    "results = list(establishments.find(query))\n",
    "print(len(results))\n"
   ]
  },
  {
   "cell_type": "code",
   "execution_count": null,
   "id": "5692e6a5",
   "metadata": {},
   "outputs": [],
   "source": []
  }
 ],
 "metadata": {
  "kernelspec": {
   "display_name": "Python 3 (ipykernel)",
   "language": "python",
   "name": "python3"
  },
  "language_info": {
   "codemirror_mode": {
    "name": "ipython",
    "version": 3
   },
   "file_extension": ".py",
   "mimetype": "text/x-python",
   "name": "python",
   "nbconvert_exporter": "python",
   "pygments_lexer": "ipython3",
   "version": "3.10.11"
  }
 },
 "nbformat": 4,
 "nbformat_minor": 5
}
