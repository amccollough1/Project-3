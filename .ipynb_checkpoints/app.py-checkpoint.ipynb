{
 "cells": [
  {
   "cell_type": "code",
   "execution_count": 93,
   "id": "cb05c5ea",
   "metadata": {},
   "outputs": [],
   "source": [
    "from flask import Flask, jsonify, request\n",
    "from pymongo import MongoClient\n",
    "from pprint import pprint\n",
    "\n",
    "app = Flask(__name__)\n",
    "\n",
    "@app.route('/')\n",
    "def hello_world():\n",
    "    return 'Hello!'"
   ]
  },
  {
   "cell_type": "code",
   "execution_count": 94,
   "id": "24f015eb",
   "metadata": {},
   "outputs": [],
   "source": [
    "client = MongoClient('mongodb://localhost:27017/')\n",
    "db = client['Marvel-Vs-DC-Comic']\n",
    "db2 = client['Marvel-Vs-DC-Movie']\n",
    "comics_collection = db['Marvel-Vs-DC-Comic'] \n",
    "film_collection = db2['Marvel-Vs-DC-Movie']"
   ]
  },
  {
   "cell_type": "code",
   "execution_count": 95,
   "id": "ada597e0",
   "metadata": {},
   "outputs": [],
   "source": [
    "@app.route('/api/dc_comics', methods=['GET'])\n",
    "def get_dc_comics():\n",
    "    dc_comics = list(comics_collection.find({\"universe\": \"DC\"}))\n",
    "\n",
    "    return jsonify(dc_comics)"
   ]
  },
  {
   "cell_type": "code",
   "execution_count": 86,
   "id": "b6f09091",
   "metadata": {},
   "outputs": [
    {
     "name": "stdout",
     "output_type": "stream",
     "text": [
      "14665\n"
     ]
    }
   ],
   "source": [
    "query = {'Universe':'Marvel'}\n",
    "results = list(comics_collection.find(query))\n",
    "print(len(results))"
   ]
  },
  {
   "cell_type": "code",
   "execution_count": 87,
   "id": "8b21e32e",
   "metadata": {},
   "outputs": [
    {
     "name": "stdout",
     "output_type": "stream",
     "text": [
      "6479\n"
     ]
    }
   ],
   "source": [
    "query = {'Universe':'DC'}\n",
    "results = list(comics_collection.find(query))\n",
    "print(len(results))"
   ]
  },
  {
   "cell_type": "code",
   "execution_count": 88,
   "id": "ef1a44a0",
   "metadata": {},
   "outputs": [
    {
     "name": "stdout",
     "output_type": "stream",
     "text": [
      " * Serving Flask app '__main__'\n",
      " * Debug mode: off\n"
     ]
    },
    {
     "name": "stderr",
     "output_type": "stream",
     "text": [
      "WARNING: This is a development server. Do not use it in a production deployment. Use a production WSGI server instead.\n",
      " * Running on http://127.0.0.1:5000\n",
      "Press CTRL+C to quit\n",
      "127.0.0.1 - - [25/Sep/2023 20:03:50] \"GET /api/character_identity_influence HTTP/1.1\" 200 -\n"
     ]
    }
   ],
   "source": [
    "# How does a characters' identity influence their alignment(good, bad, neutral)?\n",
    "@app.route('/api/character_identity_influence', methods=['GET'])\n",
    "def character_identity_influence():\n",
    "    identity_alignment_mapping = {\n",
    "        \"Secret\": {\"alignment\": {\"Good\": 0, \"Bad\": 0, \"Neutral\": 0}},\n",
    "        \"Public\": {\"alignment\": {\"Good\": 0, \"Bad\": 0, \"Neutral\": 0}},\n",
    "        \"Non-dual\": {\"alignment\": {\"Good\": 0, \"Bad\": 0, \"Neutral\": 0}}\n",
    "    }\n",
    "\n",
    "    for identity, alignment_data in identity_alignment_mapping.items():\n",
    "        alignment_count = alignment_data[\"alignment\"]\n",
    "        \n",
    "        query = {\"Identity\": identity}\n",
    "        characters = list(comics_collection.find(query))\n",
    "\n",
    "        for character in characters:\n",
    "            alignment = character[\"Alignment\"]\n",
    "            alignment_count[alignment] += 1\n",
    "\n",
    "    return jsonify(identity_alignment_mapping)\n",
    "if __name__ == '__main__':\n",
    "    app.run(port=5000)\n",
    "#http://127.0.0.1:5000/api/character_identity_influence"
   ]
  },
  {
   "cell_type": "code",
   "execution_count": 92,
   "id": "38e919dc",
   "metadata": {},
   "outputs": [
    {
     "name": "stdout",
     "output_type": "stream",
     "text": [
      " * Serving Flask app '__main__'\n",
      " * Debug mode: off\n"
     ]
    },
    {
     "name": "stderr",
     "output_type": "stream",
     "text": [
      "WARNING: This is a development server. Do not use it in a production deployment. Use a production WSGI server instead.\n",
      " * Running on http://127.0.0.1:5000\n",
      "Press CTRL+C to quit\n",
      "127.0.0.1 - - [25/Sep/2023 20:05:13] \"GET /api/character_count_over_time?start_year=2000&end_year=&universe=both&alignment=Good HTTP/1.1\" 404 -\n"
     ]
    }
   ],
   "source": [
    "# How does the number of good vs bad characters changes over x period of years in both DC and Marvel?\n",
    "@app.route('/api/good_bad_character_changes', methods=['GET'])\n",
    "def get_good_bad_character_changes():\n",
    "    start_year = request.args.get('start_year', type=int)\n",
    "    end_year = request.args.get('end_year', type=int)\n",
    "\n",
    "    dc_query = {\n",
    "        \"Universe\": \"DC\",\n",
    "        \"First_appeared_year\": {\"$gte\": start_year, \"$lte\": end_year},\n",
    "        \"Alignment\": {\"$in\": [\"Good\", \"Bad\"]}\n",
    "    }\n",
    "\n",
    "    marvel_query = {\n",
    "        \"Universe\": \"Marvel\",\n",
    "        \"First_appeared_year\": {\"$gte\": start_year, \"$lte\": end_year},\n",
    "        \"Alignment\": {\"$in\": [\"Good\", \"Bad\"]}\n",
    "    }\n",
    "\n",
    "    dc_pipeline = [\n",
    "        {\"$match\": dc_query},\n",
    "        {\"$group\": {\"_id\": {\"Year\": \"$First_appeared_year\", \"Alignment\": \"$Alignment\"}, \"count\": {\"$sum\": 1}}}\n",
    "    ]\n",
    "\n",
    "    dc_results = list(comics_collection.aggregate(dc_pipeline))\n",
    "\n",
    "    marvel_pipeline = [\n",
    "        {\"$match\": marvel_query},\n",
    "        {\"$group\": {\"_id\": {\"Year\": \"$First_appeared_year\", \"Alignment\": \"$Alignment\"}, \"count\": {\"$sum\": 1}}}\n",
    "    ]\n",
    "\n",
    "    marvel_results = list(comics_collection.aggregate(marvel_pipeline))\n",
    "\n",
    "    response = {\n",
    "        \"DC_Characters\": dc_results,\n",
    "        \"Marvel_Characters\": marvel_results\n",
    "    }\n",
    "\n",
    "    return jsonify(response)\n",
    "if __name__ == '__main__':\n",
    "    app.run(port=5000)\n",
    "# http://127.0.0.1:5000/api/character_count_over_time?start_year=2000&end_year=&universe=both&alignment=Good"
   ]
  },
  {
   "cell_type": "code",
   "execution_count": null,
   "id": "d91f439c",
   "metadata": {},
   "outputs": [
    {
     "name": "stdout",
     "output_type": "stream",
     "text": [
      " * Serving Flask app '__main__'\n",
      " * Debug mode: off\n"
     ]
    },
    {
     "name": "stderr",
     "output_type": "stream",
     "text": [
      "WARNING: This is a development server. Do not use it in a production deployment. Use a production WSGI server instead.\n",
      " * Running on http://127.0.0.1:5000\n",
      "Press CTRL+C to quit\n",
      "[2023-09-25 20:06:13,331] ERROR in app: Exception on /api/comics_vs_films [GET]\n",
      "Traceback (most recent call last):\n",
      "  File \"C:\\Users\\hayde\\anaconda3\\lib\\site-packages\\flask\\app.py\", line 2190, in wsgi_app\n",
      "    response = self.full_dispatch_request()\n",
      "  File \"C:\\Users\\hayde\\anaconda3\\lib\\site-packages\\flask\\app.py\", line 1486, in full_dispatch_request\n",
      "    rv = self.handle_user_exception(e)\n",
      "  File \"C:\\Users\\hayde\\anaconda3\\lib\\site-packages\\flask\\app.py\", line 1484, in full_dispatch_request\n",
      "    rv = self.dispatch_request()\n",
      "  File \"C:\\Users\\hayde\\anaconda3\\lib\\site-packages\\flask\\app.py\", line 1469, in dispatch_request\n",
      "    return self.ensure_sync(self.view_functions[rule.endpoint])(**view_args)\n",
      "  File \"C:\\Users\\hayde\\AppData\\Local\\Temp\\ipykernel_18016\\2552267268.py\", line 5, in get_comics_vs_films\n",
      "    comics_count = comics_db['comics_collection'].count_documents({})\n",
      "NameError: name 'comics_db' is not defined\n",
      "127.0.0.1 - - [25/Sep/2023 20:06:13] \"GET /api/comics_vs_films HTTP/1.1\" 500 -\n"
     ]
    }
   ],
   "source": [
    "# How does the number of appearances in DC/Marvel comics compare to the films released?\n",
    "\n",
    "@app.route('/api/comics_vs_films', methods=['GET'])\n",
    "def get_comics_vs_films():\n",
    "    comics_count = comics_db['comics_collection'].count_documents({})\n",
    "    \n",
    "    films_count = films_db['film_collection'].count_documents({})\n",
    "\n",
    "    response = {\n",
    "        \"comics_appearances_count\": comics_count,\n",
    "        \"films_count\": films_count\n",
    "    }\n",
    "    \n",
    "    return jsonify(response)\n",
    "\n",
    "if __name__ == '__main__':\n",
    "    app.run(port=5000)"
   ]
  },
  {
   "cell_type": "code",
   "execution_count": 82,
   "id": "4300ec2f",
   "metadata": {},
   "outputs": [
    {
     "name": "stdout",
     "output_type": "stream",
     "text": [
      " * Serving Flask app '__main__'\n",
      " * Debug mode: off\n"
     ]
    },
    {
     "name": "stderr",
     "output_type": "stream",
     "text": [
      "WARNING: This is a development server. Do not use it in a production deployment. Use a production WSGI server instead.\n",
      " * Running on http://127.0.0.1:5000\n",
      "Press CTRL+C to quit\n",
      "127.0.0.1 - - [25/Sep/2023 20:02:46] \"GET /api/mpa_rating_performance HTTP/1.1\" 200 -\n"
     ]
    }
   ],
   "source": [
    "# Film Release : Is there a particular MPA rating that peforms better over another?\n",
    "\n",
    "@app.route('/api/mpa_rating_performance', methods=['GET'])\n",
    "def get_mpa_rating_performance():\n",
    "    # Define the MPA ratings you want to analyze\n",
    "    mpa_ratings = [\"PG\", \"G\", \"PG-13\", \"R\", \"approved\"]\n",
    "    \n",
    "    rating_performance = {}\n",
    "    \n",
    "    for rating in mpa_ratings:\n",
    "        query = {\"mpa_rating\": rating}\n",
    "        films = list(film_collection.find(query))\n",
    "        \n",
    "        if not films:\n",
    "            continue\n",
    "        \n",
    "        total_imdb_rating = 0\n",
    "        total_tomato_meter = 0\n",
    "        total_tomato_review = 0\n",
    "        total_tom_aud_score = 0\n",
    "        film_count = 0\n",
    "        \n",
    "        for film in films:\n",
    "            total_imdb_rating += film.get(\"imdb_rating\", 0)\n",
    "            total_tomato_meter += film.get(\"tomato_meter\", 0)\n",
    "            total_tomato_review += film.get(\"tomato_review\", 0)\n",
    "            total_tom_aud_score += film.get(\"tom_aud_score\", 0)\n",
    "            film_count += 1\n",
    "        \n",
    "        if film_count > 0:\n",
    "            average_imdb_rating = total_imdb_rating / film_count\n",
    "            average_tomato_meter = total_tomato_meter / film_count\n",
    "            average_tomato_review = total_tomato_review / film_count\n",
    "            average_tom_aud_score = total_tom_aud_score / film_count\n",
    "            rating_performance[rating] = {\n",
    "                \"average_imdb_rating\": average_imdb_rating,\n",
    "                \"average_tomato_meter\": average_tomato_meter,\n",
    "                \"average_tomato_review\": average_tomato_review,\n",
    "                \"average_tom_aud_score\": average_tom_aud_score,\n",
    "                \"film_count\": film_count\n",
    "            }\n",
    "    \n",
    "    return jsonify(rating_performance)\n",
    "\n",
    "if __name__ == '__main__':\n",
    "    app.run(port=5000)"
   ]
  }
 ],
 "metadata": {
  "kernelspec": {
   "display_name": "Python 3 (ipykernel)",
   "language": "python",
   "name": "python3"
  },
  "language_info": {
   "codemirror_mode": {
    "name": "ipython",
    "version": 3
   },
   "file_extension": ".py",
   "mimetype": "text/x-python",
   "name": "python",
   "nbconvert_exporter": "python",
   "pygments_lexer": "ipython3",
   "version": "3.10.9"
  }
 },
 "nbformat": 4,
 "nbformat_minor": 5
}
