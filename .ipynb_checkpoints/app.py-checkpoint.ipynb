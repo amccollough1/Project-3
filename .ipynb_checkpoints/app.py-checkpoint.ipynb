{
 "cells": [
  {
   "cell_type": "code",
   "execution_count": 4,
   "id": "cb05c5ea",
   "metadata": {},
   "outputs": [],
   "source": [
    "from flask import Flask, jsonify, request\n",
    "from pymongo import MongoClient\n",
    "from pprint import pprint\n",
    "\n",
    "app = Flask(__name__)\n",
    "\n",
    "@app.route('/')\n",
    "def hello_world():\n",
    "    return 'Hello!'"
   ]
  },
  {
   "cell_type": "code",
   "execution_count": 5,
   "id": "24f015eb",
   "metadata": {},
   "outputs": [],
   "source": [
    "client = MongoClient('mongodb://localhost:27017/')\n",
    "db = client['Marvel-Vs-DC-Comic']\n",
    "db2 = client['Marvel-Vs-DC-Movie']\n",
    "comics_collection = db['Marvel-Vs-DC-Comic'] \n",
    "film_collection = db2['Marvel-Vs-DC-Movie']"
   ]
  },
  {
   "cell_type": "code",
   "execution_count": null,
   "id": "fb2a9217",
   "metadata": {},
   "outputs": [],
   "source": []
  },
  {
   "cell_type": "code",
   "execution_count": 6,
   "id": "b64ddbd7",
   "metadata": {},
   "outputs": [],
   "source": [
    "@app.route('/api/dc_comics', methods=['GET'])\n",
    "def get_dc_comics():\n",
    "    dc_comics = list(comics_collection.find({\"universe\": \"DC\"}))\n",
    "\n",
    "    return jsonify(dc_comics)"
   ]
  },
  {
   "cell_type": "code",
   "execution_count": 7,
   "id": "28c40155",
   "metadata": {},
   "outputs": [
    {
     "name": "stdout",
     "output_type": "stream",
     "text": [
      "14665\n"
     ]
    }
   ],
   "source": [
    "query = {'Universe':'Marvel'}\n",
    "results = list(comics_collection.find(query))\n",
    "print(len(results))"
   ]
  },
  {
   "cell_type": "code",
   "execution_count": 8,
   "id": "0b8031a6",
   "metadata": {},
   "outputs": [
    {
     "name": "stdout",
     "output_type": "stream",
     "text": [
      "6479\n"
     ]
    }
   ],
   "source": [
    "query = {'Universe':'DC'}\n",
    "results = list(comics_collection.find(query))\n",
    "print(len(results))"
   ]
  },
  {
   "cell_type": "code",
   "execution_count": 9,
   "id": "ef1a44a0",
   "metadata": {},
   "outputs": [],
   "source": [
    "# How does a characters' identity influence their alignment(good, bad, neutral)?\n",
    "@app.route('/api/character_identity_influence', methods=['GET'])\n",
    "def character_identity_influence():\n",
    "    identity_alignment_mapping = {\n",
    "        \"Secret\": {\"alignment\": {\"Good\": 0, \"Bad\": 0, \"Neutral\": 0}},\n",
    "        \"Public\": {\"alignment\": {\"Good\": 0, \"Bad\": 0, \"Neutral\": 0}},\n",
    "        \"Non-dual\": {\"alignment\": {\"Good\": 0, \"Bad\": 0, \"Neutral\": 0}}\n",
    "    }\n",
    "\n",
    "    for identity, alignment_data in identity_alignment_mapping.items():\n",
    "        alignment_count = alignment_data[\"alignment\"]\n",
    "        \n",
    "        query = {\"Identity\": identity}\n",
    "        characters = list(comics_collection.find(query))\n",
    "\n",
    "        for character in characters:\n",
    "            alignment = character[\"Alignment\"]\n",
    "            alignment_count[alignment] += 1\n",
    "\n",
    "    return jsonify(identity_alignment_mapping)\n",
    "\n",
    "#http://127.0.0.1:5000/api/character_identity_influence"
   ]
  },
  {
   "cell_type": "code",
   "execution_count": 10,
   "id": "596c021a",
   "metadata": {},
   "outputs": [],
   "source": [
    "# How does the number of good vs bad characters changes over x period of years in both DC and Marvel?\n",
    "@app.route('/api/character_count_over_time', methods=['GET'])\n",
    "def character_count_over_time():\n",
    "    start_year = request.args.get('First_appeared', type=int)\n",
    "    end_year = request.args.get('end_year', type=int)\n",
    "    universe = request.args.get('universe', default='both')\n",
    "    alignment = request.args.get('alignment', default='both')\n",
    "\n",
    "    query = {}\n",
    "\n",
    "    if start_year is not None and end_year is not None:\n",
    "        query[\"First_appeared_year\"] = {\"$gte\": start_year, \"$lte\": end_year}\n",
    "    \n",
    "    if end_year is not None:\n",
    "        query[\"$or\"] = [{\"Alive\": \"Yes\"}, {\"Alive\": {\"$exists\": False}}]\n",
    "\n",
    "    if universe != 'both':\n",
    "        query[\"Universe\"] = universe\n",
    "    \n",
    "    if alignment != 'both':\n",
    "        query[\"Alignment\"] = alignment\n",
    "\n",
    "    pipeline = [\n",
    "        {\"$match\": query},\n",
    "        {\"$group\": {\"_id\": \"$First_appeared_year\", \"count\": {\"$sum\": 1}}},\n",
    "        {\"$sort\": {\"_id\": 1}}\n",
    "    ]\n",
    "\n",
    "    character_counts = list(comics_collection.aggregate(pipeline))\n",
    "\n",
    "    return jsonify(character_counts)\n",
    "# http://127.0.0.1:5000/api/character_count_over_time?start_year=2000&end_year=&universe=both&alignment=Good"
   ]
  },
  {
   "cell_type": "code",
   "execution_count": 11,
   "id": "9dda50cb",
   "metadata": {},
   "outputs": [],
   "source": [
    "# How does the number of appearances in DC/Marvel comics compare to the films released?\n",
    "\n",
    "@app.route('/api/character_appearances', methods=['GET'])\n",
    "def get_character_appearances():\n",
    "    character_appearances_count = comic_collection.distinct('Character_Name')\n",
    "    \n",
    "    response = {\n",
    "        \"character_appearances_count\": len(character_appearances_count)\n",
    "    }\n",
    "\n",
    "    return jsonify(response)"
   ]
  },
  {
   "cell_type": "code",
   "execution_count": null,
   "id": "8a1bddf4",
   "metadata": {},
   "outputs": [
    {
     "name": "stdout",
     "output_type": "stream",
     "text": [
      " * Serving Flask app '__main__'\n",
      " * Debug mode: off\n"
     ]
    },
    {
     "name": "stderr",
     "output_type": "stream",
     "text": [
      "WARNING: This is a development server. Do not use it in a production deployment. Use a production WSGI server instead.\n",
      " * Running on http://127.0.0.1:5000\n",
      "Press CTRL+C to quit\n",
      "127.0.0.1 - - [21/Sep/2023 21:14:34] \"GET /api/film_count HTTP/1.1\" 200 -\n",
      "[2023-09-21 21:14:55,927] ERROR in app: Exception on /api/character_appearances [GET]\n",
      "Traceback (most recent call last):\n",
      "  File \"C:\\Users\\hayde\\anaconda3\\lib\\site-packages\\flask\\app.py\", line 2190, in wsgi_app\n",
      "    response = self.full_dispatch_request()\n",
      "  File \"C:\\Users\\hayde\\anaconda3\\lib\\site-packages\\flask\\app.py\", line 1486, in full_dispatch_request\n",
      "    rv = self.handle_user_exception(e)\n",
      "  File \"C:\\Users\\hayde\\anaconda3\\lib\\site-packages\\flask\\app.py\", line 1484, in full_dispatch_request\n",
      "    rv = self.dispatch_request()\n",
      "  File \"C:\\Users\\hayde\\anaconda3\\lib\\site-packages\\flask\\app.py\", line 1469, in dispatch_request\n",
      "    return self.ensure_sync(self.view_functions[rule.endpoint])(**view_args)\n",
      "  File \"C:\\Users\\hayde\\AppData\\Local\\Temp\\ipykernel_9640\\34691096.py\", line 5, in get_character_appearances\n",
      "    character_appearances_count = comic_collection.distinct('Character_Name')\n",
      "NameError: name 'comic_collection' is not defined\n",
      "127.0.0.1 - - [21/Sep/2023 21:14:55] \"GET /api/character_appearances HTTP/1.1\" 500 -\n"
     ]
    }
   ],
   "source": [
    "# Question 3, Part 2\n",
    "@app.route('/api/film_count', methods=['GET'])\n",
    "def get_film_count():\n",
    "    film_count = film_collection.count_documents({})\n",
    "    \n",
    "    response = {\n",
    "        \"film_count\": film_count\n",
    "    }\n",
    "\n",
    "    return jsonify(response)\n",
    "\n",
    "if __name__ == '__main__':\n",
    "    app.run()"
   ]
  },
  {
   "cell_type": "code",
   "execution_count": null,
   "id": "021625ed",
   "metadata": {},
   "outputs": [],
   "source": [
    "# Film Release : Is there a particular MPA rating that peforms better over another?\n",
    "\n",
    "@app.route('/api/mpa_rating_performance', methods=['GET'])\n",
    "def mpa_rating_performance():\n",
    "    pipeline = [\n",
    "        {\"$group\": {\n",
    "            \"_id\": \"$mpa_rating\",\n",
    "            \"average_box_office\": {\"$avg\": \"$box_office\"}\n",
    "        }}\n",
    "    ]\n",
    "\n",
    "    mpa_rating_performance_data = list(films_collection.aggregate(pipeline))\n",
    "\n",
    "    response = {\n",
    "        \"mpa_rating_performance\": mpa_rating_performance_data\n",
    "    }\n",
    "\n",
    "    return jsonify(response)"
   ]
  }
 ],
 "metadata": {
  "kernelspec": {
   "display_name": "Python 3 (ipykernel)",
   "language": "python",
   "name": "python3"
  },
  "language_info": {
   "codemirror_mode": {
    "name": "ipython",
    "version": 3
   },
   "file_extension": ".py",
   "mimetype": "text/x-python",
   "name": "python",
   "nbconvert_exporter": "python",
   "pygments_lexer": "ipython3",
   "version": "3.10.9"
  }
 },
 "nbformat": 4,
 "nbformat_minor": 5
}
