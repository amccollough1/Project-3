{
 "cells": [
  {
   "cell_type": "code",
   "execution_count": 1,
   "id": "cb05c5ea",
   "metadata": {},
   "outputs": [
    {
     "name": "stdout",
     "output_type": "stream",
     "text": [
      " * Serving Flask app '__main__'\n",
      " * Debug mode: off\n"
     ]
    },
    {
     "name": "stderr",
     "output_type": "stream",
     "text": [
      "WARNING: This is a development server. Do not use it in a production deployment. Use a production WSGI server instead.\n",
      " * Running on http://127.0.0.1:5000\n",
      "Press CTRL+C to quit\n",
      "127.0.0.1 - - [19/Sep/2023 19:57:27] \"GET / HTTP/1.1\" 200 -\n",
      "127.0.0.1 - - [19/Sep/2023 19:57:27] \"GET /favicon.ico HTTP/1.1\" 404 -\n"
     ]
    }
   ],
   "source": [
    "from flask import Flask, jsonify, request\n",
    "from pymongo import MongoClient\n",
    "\n",
    "app = Flask(__name__)\n",
    "\n",
    "@app.route('/')\n",
    "def hello_world():\n",
    "    return 'Hello!'\n",
    "'app.run()"
   ]
  },
  {
   "cell_type": "code",
   "execution_count": null,
   "id": "24f015eb",
   "metadata": {},
   "outputs": [],
   "source": [
    "client1 = MongoClient('mongoDB client')\n",
    "db1 = client1['first_database_name']\n",
    "collection1 = db1['collection_name2']\n",
    "\n",
    "client2 = MongoClient('mongoDB client')\n",
    "db2 = client2['second_database_name'] \n",
    "collection2 = db2['collection_name2']"
   ]
  },
  {
   "cell_type": "code",
   "execution_count": null,
   "id": "ef1a44a0",
   "metadata": {},
   "outputs": [],
   "source": [
    "# How does a characters' identity influence their alignment(good, bad, neutral)?\n",
    "\n",
    "@app.route('/api/character_alignment', methods=['GET'])\n",
    "def get_character_alignment():\n",
    "    character_identity = request.args.get('identity')\n",
    "\n",
    "    character_data = collection.find_one({\"identity\": character_identity})\n",
    "\n",
    "    if character_data:\n",
    "        character_alignment = character_data.get(\"alignment\")\n",
    "\n",
    "        response = {\n",
    "            \"character_identity\": character_identity,\n",
    "            \"alignment\": character_alignment\n",
    "        }\n",
    "        return jsonify(response)\n",
    "    else:\n",
    "        return jsonify({\"error\": \"Character not found\"}), 404"
   ]
  },
  {
   "cell_type": "code",
   "execution_count": null,
   "id": "ec127f18",
   "metadata": {},
   "outputs": [],
   "source": [
    "# How does the number of good vs bad characters changes over x period of years in both DC and Marvel?"
   ]
  },
  {
   "cell_type": "code",
   "execution_count": null,
   "id": "2a1c436c",
   "metadata": {},
   "outputs": [],
   "source": [
    "# How does the number of appearances in DC/Marvel comics compare to the films released?\n",
    "\n",
    "@app.route('/api/compare_appearances_and_films', methods=['GET'])\n",
    "def compare_appearances_and_films():\n",
    "    dc_appearances = comic_characters_collection.count_documents({\"universe\": \"DC\"})\n",
    "    marvel_appearances = comic_characters_collection.count_documents({\"universe\": \"Marvel\"})\n",
    "    total_films = films_collection.count_documents({})\n",
    "    response = {\n",
    "        \"dc_comic_appearances\": dc_appearances,\n",
    "        \"marvel_comic_appearances\": marvel_appearances,\n",
    "        \"total_films_released\": total_films\n",
    "    }\n",
    "\n",
    "    return jsonify(response)\n",
    "\n",
    "if __name__ == '__main__':\n",
    "    app.run()"
   ]
  },
  {
   "cell_type": "code",
   "execution_count": null,
   "id": "7903543b",
   "metadata": {},
   "outputs": [],
   "source": [
    "# Film Release : Is there a particular MPA rating that peforms better over another?\n",
    "\n",
    "@app.route('/api/mpa_rating_performance', methods=['GET'])\n",
    "def mpa_rating_performance():\n",
    "    pipeline = [\n",
    "        {\"$group\": {\n",
    "            \"_id\": \"$mpa_rating\",\n",
    "            \"average_box_office\": {\"$avg\": \"$box_office\"}\n",
    "        }}\n",
    "    ]\n",
    "\n",
    "    mpa_rating_performance_data = list(films_collection.aggregate(pipeline))\n",
    "\n",
    "    response = {\n",
    "        \"mpa_rating_performance\": mpa_rating_performance_data\n",
    "    }\n",
    "\n",
    "    return jsonify(response)\n",
    "\n",
    "if __name__ == '__main__':\n",
    "    app.run()"
   ]
  }
 ],
 "metadata": {
  "kernelspec": {
   "display_name": "Python 3 (ipykernel)",
   "language": "python",
   "name": "python3"
  },
  "language_info": {
   "codemirror_mode": {
    "name": "ipython",
    "version": 3
   },
   "file_extension": ".py",
   "mimetype": "text/x-python",
   "name": "python",
   "nbconvert_exporter": "python",
   "pygments_lexer": "ipython3",
   "version": "3.10.9"
  }
 },
 "nbformat": 4,
 "nbformat_minor": 5
}
