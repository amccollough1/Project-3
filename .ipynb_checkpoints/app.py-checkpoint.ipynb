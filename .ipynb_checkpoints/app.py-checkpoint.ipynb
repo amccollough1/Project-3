{
 "cells": [
  {
   "cell_type": "code",
   "execution_count": 26,
   "id": "cb05c5ea",
   "metadata": {},
   "outputs": [],
   "source": [
    "from flask import Flask, jsonify, request\n",
    "from pymongo import MongoClient\n",
    "from pprint import pprint\n",
    "\n",
    "app = Flask(__name__)\n",
    "\n",
    "@app.route('/')\n",
    "def hello_world():\n",
    "    return 'Hello!'"
   ]
  },
  {
   "cell_type": "code",
   "execution_count": 27,
   "id": "24f015eb",
   "metadata": {},
   "outputs": [],
   "source": [
    "client = MongoClient('mongodb://localhost:27017/')\n",
    "db = client['Marvel-Vs-DC-Comic']\n",
    "db2 = client['Marvel-Vs-DC-Movie']\n",
    "comics_collection = db['Marvel-Vs-DC-Comic'] \n",
    "film_collection = db2['Marvel-Vs-DC-Movie']"
   ]
  },
  {
   "cell_type": "code",
   "execution_count": 28,
   "id": "ada597e0",
   "metadata": {},
   "outputs": [],
   "source": [
    "@app.route('/api/dc_comics', methods=['GET'])\n",
    "def get_dc_comics():\n",
    "    dc_comics = list(comics_collection.find({\"universe\": \"DC\"}))\n",
    "\n",
    "    return jsonify(dc_comics)"
   ]
  },
  {
   "cell_type": "code",
   "execution_count": 29,
   "id": "b6f09091",
   "metadata": {},
   "outputs": [
    {
     "name": "stdout",
     "output_type": "stream",
     "text": [
      "14665\n"
     ]
    }
   ],
   "source": [
    "query = {'Universe':'Marvel'}\n",
    "results = list(comics_collection.find(query))\n",
    "print(len(results))"
   ]
  },
  {
   "cell_type": "code",
   "execution_count": 22,
   "id": "8b21e32e",
   "metadata": {},
   "outputs": [
    {
     "name": "stdout",
     "output_type": "stream",
     "text": [
      "6479\n"
     ]
    }
   ],
   "source": [
    "query = {'Universe':'DC'}\n",
    "results = list(comics_collection.find(query))\n",
    "print(len(results))"
   ]
  },
  {
   "cell_type": "code",
   "execution_count": 16,
   "id": "ef1a44a0",
   "metadata": {},
   "outputs": [
    {
     "name": "stdout",
     "output_type": "stream",
     "text": [
      " * Serving Flask app '__main__'\n",
      " * Debug mode: off\n"
     ]
    },
    {
     "name": "stderr",
     "output_type": "stream",
     "text": [
      "WARNING: This is a development server. Do not use it in a production deployment. Use a production WSGI server instead.\n",
      " * Running on http://127.0.0.1:5000\n",
      "Press CTRL+C to quit\n",
      "127.0.0.1 - - [25/Sep/2023 18:40:02] \"GET / HTTP/1.1\" 200 -\n",
      "127.0.0.1 - - [25/Sep/2023 18:40:21] \"GET /api/character_identity_influence HTTP/1.1\" 200 -\n"
     ]
    }
   ],
   "source": [
    "# How does a characters' identity influence their alignment(good, bad, neutral)?\n",
    "@app.route('/api/character_identity_influence', methods=['GET'])\n",
    "def character_identity_influence():\n",
    "    identity_alignment_mapping = {\n",
    "        \"Secret\": {\"alignment\": {\"Good\": 0, \"Bad\": 0, \"Neutral\": 0}},\n",
    "        \"Public\": {\"alignment\": {\"Good\": 0, \"Bad\": 0, \"Neutral\": 0}},\n",
    "        \"Non-dual\": {\"alignment\": {\"Good\": 0, \"Bad\": 0, \"Neutral\": 0}}\n",
    "    }\n",
    "\n",
    "    for identity, alignment_data in identity_alignment_mapping.items():\n",
    "        alignment_count = alignment_data[\"alignment\"]\n",
    "        \n",
    "        query = {\"Identity\": identity}\n",
    "        characters = list(comics_collection.find(query))\n",
    "\n",
    "        for character in characters:\n",
    "            alignment = character[\"Alignment\"]\n",
    "            alignment_count[alignment] += 1\n",
    "\n",
    "    return jsonify(identity_alignment_mapping)\n",
    "if __name__ == '__main__':\n",
    "    app.run(port=5000)\n",
    "#http://127.0.0.1:5000/api/character_identity_influence"
   ]
  },
  {
   "cell_type": "code",
   "execution_count": null,
   "id": "38e919dc",
   "metadata": {},
   "outputs": [
    {
     "name": "stdout",
     "output_type": "stream",
     "text": [
      " * Serving Flask app '__main__'\n",
      " * Debug mode: off\n"
     ]
    },
    {
     "name": "stderr",
     "output_type": "stream",
     "text": [
      "WARNING: This is a development server. Do not use it in a production deployment. Use a production WSGI server instead.\n",
      " * Running on http://127.0.0.1:5000\n",
      "Press CTRL+C to quit\n",
      "127.0.0.1 - - [25/Sep/2023 18:48:01] \"GET /api/character_count_over_time?start_year=2000&end_year=2020&universe=both HTTP/1.1\" 200 -\n"
     ]
    }
   ],
   "source": [
    "# How does the number of good vs bad characters changes over x period of years in both DC and Marvel?\n",
    "@app.route('/api/character_count_over_time', methods=['GET'])\n",
    "def character_count_over_time():\n",
    "    start_year = request.args.get('start_year', type=int)\n",
    "    end_year = request.args.get('end_year', type=int)\n",
    "    universe = request.args.get('universe', default='both')\n",
    "\n",
    "    query = {}\n",
    "\n",
    "    if start_year is not None and end_year is not None:\n",
    "        query[\"First_appeared_year\"] = {\"$gte\": start_year, \"$lte\": end_year}\n",
    "\n",
    "    if universe != 'both':\n",
    "        query[\"Universe\"] = universe\n",
    "\n",
    "    pipeline = [\n",
    "        {\"$match\": query},\n",
    "        {\n",
    "            \"$group\": {\n",
    "                \"_id\": {\"Year\": \"$First_appeared_year\", \"Alignment\": \"$Alignment\"},\n",
    "                \"count\": {\"$sum\": 1}\n",
    "            }\n",
    "        },\n",
    "        {\"$sort\": {\"_id.Year\": 1}}\n",
    "    ]\n",
    "\n",
    "    character_counts = list(comics_collection.aggregate(pipeline))\n",
    "\n",
    "    # Organize the results by year and alignment\n",
    "    result_data = {}\n",
    "    for entry in character_counts:\n",
    "        year = entry['_id']['Year']\n",
    "        alignment = entry['_id']['Alignment']\n",
    "        count = entry['count']\n",
    "        if year not in result_data:\n",
    "            result_data[year] = {}\n",
    "        result_data[year][alignment] = count\n",
    "\n",
    "    return jsonify(result_data)\n",
    "if __name__ == '__main__':\n",
    "    app.run(port=5000)\n",
    "# http://127.0.0.1:5000/api/character_count_over_time?start_year=2000&end_year=&universe=both&alignment=Good"
   ]
  },
  {
   "cell_type": "code",
   "execution_count": 8,
   "id": "d91f439c",
   "metadata": {},
   "outputs": [],
   "source": [
    "# How does the number of appearances in DC/Marvel comics compare to the films released?\n",
    "\n",
    "@app.route('/api/character_appearances', methods=['GET'])\n",
    "def get_character_appearances():\n",
    "    character_appearances_count = comics_collection.distinct('Character_Name')\n",
    "    \n",
    "    response = {\n",
    "        \"character_appearances_count\": len(character_appearances_count)\n",
    "    }\n",
    "\n",
    "    return jsonify(response)"
   ]
  },
  {
   "cell_type": "code",
   "execution_count": 9,
   "id": "d7042347",
   "metadata": {},
   "outputs": [],
   "source": [
    "# Question 3, Part 2\n",
    "@app.route('/api/film_count', methods=['GET'])\n",
    "def get_film_count():\n",
    "    film_count = film_collection.count_documents({})\n",
    "    \n",
    "    response = {\n",
    "        \"film_count\": film_count\n",
    "    }\n",
    "\n",
    "    return jsonify(response)"
   ]
  },
  {
   "cell_type": "code",
   "execution_count": 24,
   "id": "4300ec2f",
   "metadata": {},
   "outputs": [
    {
     "name": "stdout",
     "output_type": "stream",
     "text": [
      " * Serving Flask app '__main__'\n",
      " * Debug mode: off\n"
     ]
    },
    {
     "name": "stderr",
     "output_type": "stream",
     "text": [
      "WARNING: This is a development server. Do not use it in a production deployment. Use a production WSGI server instead.\n",
      " * Running on http://127.0.0.1:5000\n",
      "Press CTRL+C to quit\n",
      "127.0.0.1 - - [25/Sep/2023 18:43:24] \"GET /api/mpa_rating_performance HTTP/1.1\" 200 -\n",
      "127.0.0.1 - - [25/Sep/2023 18:45:11] \"GET /api/character_count_over_time?start_year=2000&end_year=&universe=both&alignment=Good HTTP/1.1\" 200 -\n"
     ]
    }
   ],
   "source": [
    "# Film Release : Is there a particular MPA rating that peforms better over another?\n",
    "\n",
    "@app.route('/api/mpa_rating_performance', methods=['GET'])\n",
    "def get_mpa_rating_performance():\n",
    "    mpa_ratings = [\"PG\", \"G\", \"PG-13\", \"R\"]\n",
    "    \n",
    "    rating_performance = {}\n",
    "    \n",
    "    for rating in mpa_ratings:\n",
    "        query = {\"mpa_rating\": rating}\n",
    "        films = list(film_collection.find(query))\n",
    "        \n",
    "        if not films:\n",
    "            continue\n",
    "        \n",
    "        total_gross = 0\n",
    "        total_rating = 0\n",
    "        film_count = 0\n",
    "        \n",
    "        for film in films:\n",
    "            total_gross += film.get(\"imdb_gross\", 0)\n",
    "            total_rating += film.get(\"imdb_rating\", 0)\n",
    "            film_count += 1\n",
    "        \n",
    "        if film_count > 0:\n",
    "            average_gross = total_gross / film_count\n",
    "            average_rating = total_rating / film_count\n",
    "            rating_performance[rating] = {\n",
    "                \"average_gross\": average_gross,\n",
    "                \"average_rating\": average_rating,\n",
    "                \"film_count\": film_count\n",
    "            }\n",
    "    \n",
    "    return jsonify(rating_performance)\n",
    "\n",
    "if __name__ == '__main__':\n",
    "    app.run(port=5000)"
   ]
  }
 ],
 "metadata": {
  "kernelspec": {
   "display_name": "Python 3 (ipykernel)",
   "language": "python",
   "name": "python3"
  },
  "language_info": {
   "codemirror_mode": {
    "name": "ipython",
    "version": 3
   },
   "file_extension": ".py",
   "mimetype": "text/x-python",
   "name": "python",
   "nbconvert_exporter": "python",
   "pygments_lexer": "ipython3",
   "version": "3.10.9"
  }
 },
 "nbformat": 4,
 "nbformat_minor": 5
}
