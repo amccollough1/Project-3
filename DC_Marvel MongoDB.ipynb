{
 "cells": [
  {
   "cell_type": "markdown",
   "id": "41d51510",
   "metadata": {},
   "source": [
    "\n",
    "mongoimport --type csv -d Marvel-Vs-DC-Comic -c comics --headerline  dc_bad_df.csv\n",
    "\n",
    "mongoimport --type csv -d Marvel-Vs-DC-Comic -c comics --headerline  dc_good_df.csv\n",
    "\n",
    "mongoimport --type csv -d Marvel-Vs-DC-Comic -c comics --headerline   dc_neutral_df.csv\n",
    "\n",
    "\n",
    "mongoimport --type csv -d Marvel-Vs-DC-Comic -c comics --headerline   marvel_bad_df.csv\n",
    "\n",
    "mongoimport --type csv -d Marvel-Vs-DC-Comic -c comics --headerline   marvel_good_df.csv\n",
    "\n",
    "mongoimport --type csv -d Marvel-Vs-DC-Comic -c comics --headerline  marvel_neutral_df.csv\n",
    "\n",
    "mongoimport --type csv -d Marvel-Vs-DC-Movie -c films --headerline  dc_movies.csv\n",
    "\n",
    "mongoimport --type csv -d Marvel-Vs-DC-Movie -c films --headerline  marvel_movies.csv\n"
   ]
  },
  {
   "cell_type": "code",
   "execution_count": 1,
   "id": "75c96b0d",
   "metadata": {},
   "outputs": [],
   "source": [
    "# Import dependencies\n",
    "from pymongo import MongoClient\n",
    "from pprint import pprint\n",
    "import pandas as pd\n",
    "import matplotlib.pyplot as plt"
   ]
  },
  {
   "cell_type": "code",
   "execution_count": 2,
   "id": "eabf9a70",
   "metadata": {},
   "outputs": [],
   "source": [
    "# Create an instance of MongoClient\n",
    "mongo = MongoClient(port=27017)"
   ]
  },
  {
   "cell_type": "code",
   "execution_count": 3,
   "id": "0ef7beb1",
   "metadata": {},
   "outputs": [
    {
     "name": "stdout",
     "output_type": "stream",
     "text": [
      "['Marvel-Vs-DC-Comic', 'Marvel-Vs-DC-Movie', 'admin', 'autosaurus', 'classDB', 'config', 'epa', 'fruits_db', 'gardenDB', 'local', 'met', 'mydatabase', 'petsitly_marketing', 'travel_db']\n"
     ]
    }
   ],
   "source": [
    "# confirm that our new databases was created\n",
    "print(mongo.list_database_names())"
   ]
  },
  {
   "cell_type": "code",
   "execution_count": 4,
   "id": "5f86312d",
   "metadata": {},
   "outputs": [],
   "source": [
    "# assign the databases to a variable name\n",
    "\n",
    "db= mongo['Marvel-Vs-DC-Comic']\n",
    "db2 = mongo['Marvel-Vs-DC-Movie']"
   ]
  },
  {
   "cell_type": "code",
   "execution_count": 5,
   "id": "173fd0e5",
   "metadata": {},
   "outputs": [
    {
     "name": "stdout",
     "output_type": "stream",
     "text": [
      "['comics']\n",
      "['films']\n"
     ]
    }
   ],
   "source": [
    "# review the collections in the databases\n",
    "print(db.list_collection_names())\n",
    "print(db2.list_collection_names())"
   ]
  },
  {
   "cell_type": "code",
   "execution_count": 6,
   "id": "d5e9b1e4",
   "metadata": {},
   "outputs": [
    {
     "name": "stdout",
     "output_type": "stream",
     "text": [
      "{'': 3,\n",
      " 'Alignment': 'Bad',\n",
      " 'Alive': 'Yes',\n",
      " 'Appearances': 3,\n",
      " 'Appearances Bins': '<10',\n",
      " 'Eyes': 'Black',\n",
      " 'First_appeared': 'Jun-1940',\n",
      " 'Hair': 'Black',\n",
      " 'Identity': 'Secret',\n",
      " 'Name': 'Trygg',\n",
      " 'Planet': 'New Earth',\n",
      " 'Sex': 'Male',\n",
      " 'Universe': 'DC',\n",
      " '_id': ObjectId('6513659d31d5657ad9ca56a2')}\n"
     ]
    }
   ],
   "source": [
    "#review a document in the comics collection\n",
    "pprint(db.comics.find_one())\n"
   ]
  },
  {
   "cell_type": "code",
   "execution_count": 7,
   "id": "97866c5f",
   "metadata": {},
   "outputs": [
    {
     "name": "stdout",
     "output_type": "stream",
     "text": [
      "{'': 0,\n",
      " '_id': ObjectId('651366451956936a5eb6b832'),\n",
      " 'entity': 'DC',\n",
      " 'imdb_gross': '$0.00',\n",
      " 'imdb_rating': 5.7,\n",
      " 'mpa_rating': 'Passed',\n",
      " 'title': 'Superman and the Mole-Men',\n",
      " 'tomato_meter': 0,\n",
      " 'year': 1951}\n"
     ]
    }
   ],
   "source": [
    "#review a document in the films collection\n",
    "pprint(db2.films.find_one())"
   ]
  },
  {
   "cell_type": "code",
   "execution_count": 8,
   "id": "67cea198",
   "metadata": {},
   "outputs": [],
   "source": [
    "#assign collection to a variable\n",
    "character = db['comics']\n",
    "\n",
    "films=db2['films']"
   ]
  },
  {
   "cell_type": "markdown",
   "id": "9c21f67a",
   "metadata": {},
   "source": [
    "# Exploring character collection by analyzing  Question 1: \n",
    "How does a characters' identity influence their alignment(good, bad, neutral)?"
   ]
  },
  {
   "cell_type": "code",
   "execution_count": 9,
   "id": "c7c93659",
   "metadata": {},
   "outputs": [
    {
     "name": "stdout",
     "output_type": "stream",
     "text": [
      "There are 2462 good characters, 3464 bad characters , and 480 neutral characters that have a secret identity within the DC Universe.\n"
     ]
    }
   ],
   "source": [
    "# find out how many characters have a \"secret\" identity in the DC universe\n",
    "query = {'Alignment': 'Good', \n",
    "         'Identity': 'Secret', \n",
    "         'Universe': 'DC'\n",
    "        }\n",
    "query2 = {'Alignment': 'Bad', \n",
    "         'Identity': 'Secret', \n",
    "         'Universe': 'DC'\n",
    "        }\n",
    "\n",
    "query3 = {'Alignment': 'Neutral', \n",
    "         'Identity': 'Secret', \n",
    "         'Universe': 'DC'\n",
    "        }\n",
    "good_alignment = character.count_documents(query)\n",
    "bad_alignment= character.count_documents(query2)\n",
    "neutral_alignment =character.count_documents(query3)\n",
    "print(f'There are {good_alignment} good characters, {bad_alignment} bad characters , and {neutral_alignment} neutral characters that have a secret identity within the DC Universe.')"
   ]
  },
  {
   "cell_type": "code",
   "execution_count": 10,
   "id": "d5a17bd1",
   "metadata": {},
   "outputs": [
    {
     "name": "stdout",
     "output_type": "stream",
     "text": [
      "There are 2156 good characters, 8144 bad characters , and 1021 neutral characters that have a secret identity within the Marvel Universe.\n"
     ]
    }
   ],
   "source": [
    "# find out how many characters have a \"secret\" identity in the Marvel Universe\n",
    "query = {'Alignment': 'Good', \n",
    "         'Identity': 'Secret', \n",
    "         'Universe': 'Marvel'\n",
    "        }\n",
    "query2 = {'Alignment': 'Bad', \n",
    "         'Identity': 'Secret', \n",
    "         'Universe': 'Marvel'\n",
    "        }\n",
    "\n",
    "query3 = {'Alignment': 'Neutral', \n",
    "         'Identity': 'Secret', \n",
    "         'Universe': 'Marvel'\n",
    "        }\n",
    "good_alignment = character.count_documents(query)\n",
    "bad_alignment= character.count_documents(query2)\n",
    "neutral_alignment =character.count_documents(query3)\n",
    "print(f'There are {good_alignment} good characters, {bad_alignment} bad characters , and {neutral_alignment} neutral characters that have a secret identity within the Marvel Universe.')"
   ]
  },
  {
   "cell_type": "code",
   "execution_count": 11,
   "id": "4ffdb259",
   "metadata": {},
   "outputs": [
    {
     "name": "stdout",
     "output_type": "stream",
     "text": [
      "There are 3134 good characters, 2336 bad characters , and 702 neutral characters that have a public identity within the DC Universe.\n"
     ]
    }
   ],
   "source": [
    "#find out how many documents have a \"public\" identity within the DC Universe\n",
    "query = {'Alignment': 'Good', \n",
    "         'Identity': 'Public', \n",
    "         'Universe': 'DC'\n",
    "        }\n",
    "query2 = {'Alignment': 'Bad', \n",
    "         'Identity': 'Public', \n",
    "         'Universe': 'DC'\n",
    "        }\n",
    "\n",
    "query3 = {'Alignment': 'Neutral', \n",
    "         'Identity': 'Public', \n",
    "         'Universe': 'DC'\n",
    "        }\n",
    "good_alignment = character.count_documents(query)\n",
    "bad_alignment= character.count_documents(query2)\n",
    "neutral_alignment =character.count_documents(query3)\n",
    "print(f'There are {good_alignment} good characters, {bad_alignment} bad characters , and {neutral_alignment} neutral characters that have a public identity within the DC Universe.')"
   ]
  },
  {
   "cell_type": "code",
   "execution_count": 12,
<<<<<<< HEAD
=======
   "id": "2def934f",
   "metadata": {},
   "outputs": [
    {
     "name": "stdout",
     "output_type": "stream",
     "text": [
      "There are 2155 good characters, 4884 bad characters , and 902 neutral characters that have a public identity within the Marvel Universe.\n"
     ]
    }
   ],
   "source": [
    "#find out how many documents have a \"public\" identity within the Marvel Universe\n",
    "query = {'Alignment': 'Good', \n",
    "         'Identity': 'Public', \n",
    "         'Universe': 'Marvel'\n",
    "        }\n",
    "query2 = {'Alignment': 'Bad', \n",
    "         'Identity': 'Public', \n",
    "         'Universe': 'Marvel'\n",
    "        }\n",
    "\n",
    "query3 = {'Alignment': 'Neutral', \n",
    "         'Identity': 'Public', \n",
    "         'Universe': 'Marvel'\n",
    "        }\n",
    "good_alignment = character.count_documents(query)\n",
    "bad_alignment= character.count_documents(query2)\n",
    "neutral_alignment =character.count_documents(query3)\n",
    "print(f'There are {good_alignment} good characters, {bad_alignment} bad characters , and {neutral_alignment} neutral characters that have a public identity within the Marvel Universe.')"
   ]
  },
  {
   "cell_type": "code",
   "execution_count": 13,
>>>>>>> 03bc69de5d60c7ba9cc75a443512e1ed75a670e6
   "id": "7b4e6c5a",
   "metadata": {},
   "outputs": [
    {
     "name": "stdout",
     "output_type": "stream",
     "text": [
      "There are 152 good characters, 168 bad characters , and 38 neutral characters that have a non-dual identity within the DC Universe.\n"
     ]
    }
   ],
   "source": [
    "#find out how many documents have a \"non-dual\" identity within the DC Universe\n",
    "query = {'Alignment': 'Good', \n",
    "         'Identity': 'Non-dual', \n",
    "         'Universe': 'DC'\n",
    "        }\n",
    "query2 = {'Alignment': 'Bad', \n",
    "         'Identity': 'Non-dual', \n",
    "         'Universe': 'DC'\n",
    "        }\n",
    "\n",
    "query3 = {'Alignment': 'Neutral', \n",
    "         'Identity': 'Non-dual', \n",
    "         'Universe': 'DC'\n",
    "        }\n",
    "good_alignment = character.count_documents(query)\n",
    "bad_alignment= character.count_documents(query2)\n",
    "neutral_alignment =character.count_documents(query3)\n",
    "print(f'There are {good_alignment} good characters, {bad_alignment} bad characters , and {neutral_alignment} neutral characters that have a non-dual identity within the DC Universe.')"
   ]
  },
  {
   "cell_type": "code",
   "execution_count": 13,
   "id": "2def934f",
   "metadata": {},
   "outputs": [
    {
     "name": "stdout",
     "output_type": "stream",
     "text": [
      "There are 2155 good characters, 2442 bad characters , and 902 neutral characters that have a public identity within the Marvel Universe.\n"
     ]
    }
   ],
   "source": [
    "#find out how many documents have a \"public\" identity within the Marvel Universe\n",
    "query = {'Alignment': 'Good', \n",
    "         'Identity': 'Public', \n",
    "         'Universe': 'Marvel'\n",
    "        }\n",
    "query2 = {'Alignment': 'Bad', \n",
    "         'Identity': 'Public', \n",
    "         'Universe': 'Marvel'\n",
    "        }\n",
    "\n",
    "query3 = {'Alignment': 'Neutral', \n",
    "         'Identity': 'Public', \n",
    "         'Universe': 'Marvel'\n",
    "        }\n",
    "good_alignment = character.count_documents(query)\n",
    "bad_alignment= character.count_documents(query2)\n",
    "neutral_alignment =character.count_documents(query3)\n",
    "print(f'There are {good_alignment} good characters, {bad_alignment} bad characters , and {neutral_alignment} neutral characters that have a public identity within the Marvel Universe.')"
   ]
  },
  {
   "cell_type": "code",
   "execution_count": 14,
   "id": "945ea27c",
   "metadata": {},
   "outputs": [
    {
     "name": "stdout",
     "output_type": "stream",
     "text": [
      "There are 762 good characters, 1466 bad characters , and 398 neutral characters that have a non-dual identity within the Marvel Universe.\n"
     ]
    }
   ],
   "source": [
    "#find out how many documents have a \"non-dual\" identity within the Marvel Universe\n",
    "query = {'Alignment': 'Good', \n",
    "         'Identity': 'Non-dual', \n",
    "         'Universe': 'Marvel'\n",
    "        }\n",
    "query2 = {'Alignment': 'Bad', \n",
    "         'Identity': 'Non-dual', \n",
    "         'Universe': 'Marvel'\n",
    "        }\n",
    "\n",
    "query3 = {'Alignment': 'Neutral', \n",
    "         'Identity': 'Non-dual', \n",
    "         'Universe': 'Marvel'\n",
    "        }\n",
    "good_alignment = character.count_documents(query)\n",
    "bad_alignment= character.count_documents(query2)\n",
    "neutral_alignment =character.count_documents(query3)\n",
    "print(f'There are {good_alignment} good characters, {bad_alignment} bad characters , and {neutral_alignment} neutral characters that have a non-dual identity within the Marvel Universe.')"
   ]
  },
  {
   "cell_type": "markdown",
   "id": "a56ecfbe",
   "metadata": {},
   "source": [
    "# Exploring film collection"
   ]
  },
  {
   "cell_type": "code",
   "execution_count": 15,
   "id": "1ed56ecc",
   "metadata": {},
   "outputs": [
    {
     "name": "stdout",
     "output_type": "stream",
     "text": [
      "{'': 0,\n",
      " '_id': ObjectId('651366451956936a5eb6b832'),\n",
      " 'entity': 'DC',\n",
      " 'imdb_gross': '$0.00',\n",
      " 'imdb_rating': 5.7,\n",
      " 'mpa_rating': 'Passed',\n",
      " 'title': 'Superman and the Mole-Men',\n",
      " 'tomato_meter': 0,\n",
      " 'year': 1951}\n"
     ]
    }
   ],
   "source": [
    "#review a document in the films collection\n",
    "pprint(db2.films.find_one())"
   ]
  },
  {
   "cell_type": "code",
   "execution_count": 16,
   "id": "8dbfe997",
   "metadata": {},
   "outputs": [
    {
     "name": "stdout",
     "output_type": "stream",
     "text": [
      "33\n"
     ]
    }
   ],
   "source": [
    "query = {'entity': 'DC'}\n",
    "results = films.count_documents(query)\n",
    "print(results)"
   ]
  },
  {
   "cell_type": "code",
   "execution_count": 17,
   "id": "6d42b0ef",
   "metadata": {},
   "outputs": [
    {
     "name": "stdout",
     "output_type": "stream",
     "text": [
      "57\n"
     ]
    }
   ],
   "source": [
    "query = {'entity': 'MARVEL'}\n",
    "results = films.count_documents(query)\n",
    "print(results)"
   ]
  },
  {
   "cell_type": "code",
   "execution_count": null,
   "id": "4f4a67da",
   "metadata": {},
   "outputs": [],
   "source": []
  }
 ],
 "metadata": {
  "kernelspec": {
   "display_name": "Python 3 (ipykernel)",
   "language": "python",
   "name": "python3"
  },
  "language_info": {
   "codemirror_mode": {
    "name": "ipython",
    "version": 3
   },
   "file_extension": ".py",
   "mimetype": "text/x-python",
   "name": "python",
   "nbconvert_exporter": "python",
   "pygments_lexer": "ipython3",
   "version": "3.10.11"
  }
 },
 "nbformat": 4,
 "nbformat_minor": 5
}
