{
 "cells": [
  {
   "cell_type": "markdown",
   "id": "41d51510",
   "metadata": {},
   "source": [
    "mongoimport --type csv -d DC_Marvel -c character --headerline --drop filename.csv"
   ]
  },
  {
   "cell_type": "code",
   "execution_count": null,
   "id": "75c96b0d",
   "metadata": {},
   "outputs": [],
   "source": [
    "# Import dependencies\n",
    "from pymongo import MongoClient\n",
    "from pprint import pprint"
   ]
  },
  {
   "cell_type": "code",
   "execution_count": null,
   "id": "eabf9a70",
   "metadata": {},
   "outputs": [],
   "source": [
    "# Create an instance of MongoClient\n",
    "mongo = MongoClient(port=27017)"
   ]
  },
  {
   "cell_type": "code",
   "execution_count": null,
   "id": "0ef7beb1",
   "metadata": {},
   "outputs": [],
   "source": [
    "# confirm that our new database was created\n",
    "print(mongo.list_database_names())"
   ]
  },
  {
   "cell_type": "code",
   "execution_count": null,
   "id": "5f86312d",
   "metadata": {},
   "outputs": [],
   "source": [
    "# assign the database to a variable name\n",
    "\n",
    "db = mongo['DC_Marvel']"
   ]
  },
  {
   "cell_type": "code",
   "execution_count": null,
   "id": "173fd0e5",
   "metadata": {},
   "outputs": [],
   "source": [
    "# review the collections in our new database\n",
    "print(db.list_collection_names())"
   ]
  },
  {
   "cell_type": "code",
   "execution_count": null,
   "id": "d5e9b1e4",
   "metadata": {},
   "outputs": [],
   "source": [
    "# review a document in the character collection\n",
    "pprint(db.character.find_one())"
   ]
  },
  {
   "cell_type": "code",
   "execution_count": null,
   "id": "67cea198",
   "metadata": {},
   "outputs": [],
   "source": [
    "#assign collection to a variable\n",
    "comics = db['character']"
   ]
  },
  {
   "cell_type": "code",
   "execution_count": null,
   "id": "4ef1594c",
   "metadata": {},
   "outputs": [],
   "source": [
    "#find out how many documents have Universe as \"Marvel\"\n",
    "query = {'Universe':'Marvel'}\n",
    "results = list(comics.find(query))\n",
    "print(len(results))\n"
   ]
  },
  {
   "cell_type": "code",
   "execution_count": null,
   "id": "5c75f211",
   "metadata": {},
   "outputs": [],
   "source": [
    "#find out how many documents have Universe as \"DC\"\n",
    "query = {'Universe':'DC'}\n",
    "results = list(comics.find(query))\n",
    "print(len(results))\n"
   ]
  },
  {
   "cell_type": "code",
   "execution_count": null,
   "id": "634bea4b",
   "metadata": {},
   "outputs": [],
   "source": []
  }
 ],
 "metadata": {
  "kernelspec": {
   "display_name": "Python 3 (ipykernel)",
   "language": "python",
   "name": "python3"
  },
  "language_info": {
   "codemirror_mode": {
    "name": "ipython",
    "version": 3
   },
   "file_extension": ".py",
   "mimetype": "text/x-python",
   "name": "python",
   "nbconvert_exporter": "python",
   "pygments_lexer": "ipython3",
   "version": "3.10.11"
  }
 },
 "nbformat": 4,
 "nbformat_minor": 5
}
