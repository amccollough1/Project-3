{
 "cells": [
  {
   "cell_type": "markdown",
   "id": "41d51510",
   "metadata": {},
   "source": [
    "\n",
    "mongoimport --type csv -d Marvel-Vs-DC-Comic -c comics --headerline  dc_bad_df.csv\n",
    "\n",
    "mongoimport --type csv -d Marvel-Vs-DC-Comic -c comics --headerline  dc_good_df.csv\n",
    "\n",
    "mongoimport --type csv -d Marvel-Vs-DC-Comic -c comics --headerline   dc_neutral_df.csv\n",
    "\n",
    "\n",
    "mongoimport --type csv -d Marvel-Vs-DC-Comic -c comics --headerline   marvel_bad_df.csv\n",
    "\n",
    "mongoimport --type csv -d Marvel-Vs-DC-Comic -c comics --headerline   marvel_good_df.csv\n",
    "\n",
    "mongoimport --type csv -d Marvel-Vs-DC-Comic -c comics --headerline  marvel_neutral_df.csv\n",
    "\n",
    "mongoimport --type csv -d Marvel-Vs-DC-Movie -c films --headerline  dc_movies.csv\n",
    "\n",
    "mongoimport --type csv -d Marvel-Vs-DC-Movie -c films --headerline  marvel_movies.csv\n"
   ]
  },
  {
   "cell_type": "code",
   "execution_count": 1,
   "id": "75c96b0d",
   "metadata": {},
   "outputs": [],
   "source": [
    "# Import dependencies\n",
    "from pymongo import MongoClient\n",
    "from pprint import pprint"
   ]
  },
  {
   "cell_type": "code",
   "execution_count": 2,
   "id": "eabf9a70",
   "metadata": {},
   "outputs": [],
   "source": [
    "# Create an instance of MongoClient\n",
    "mongo = MongoClient(port=27017)"
   ]
  },
  {
   "cell_type": "code",
   "execution_count": 3,
   "id": "0ef7beb1",
   "metadata": {},
   "outputs": [
    {
     "name": "stdout",
     "output_type": "stream",
     "text": [
      "['Marvel-Vs-DC-Comic', 'Marvel-Vs-DC-Movie', 'admin', 'autosaurus', 'classDB', 'config', 'epa', 'fruits_db', 'local', 'met', 'petsitly_marketing', 'travel_db', 'uk_food']\n"
     ]
    }
   ],
   "source": [
    "# confirm that our new databases was created\n",
    "print(mongo.list_database_names())"
   ]
  },
  {
   "cell_type": "code",
   "execution_count": 4,
   "id": "5f86312d",
   "metadata": {},
   "outputs": [],
   "source": [
    "# assign the databases to a variable name\n",
    "\n",
    "db= mongo['Marvel-Vs-DC-Comic']\n",
    "db2 = mongo['Marvel-Vs-DC-Movie']"
   ]
  },
  {
   "cell_type": "code",
   "execution_count": 5,
   "id": "173fd0e5",
   "metadata": {},
   "outputs": [
    {
     "name": "stdout",
     "output_type": "stream",
     "text": [
      "['comics']\n",
      "['films']\n"
     ]
    }
   ],
   "source": [
    "# review the collections in the databases\n",
    "print(db.list_collection_names())\n",
    "print(db2.list_collection_names())"
   ]
  },
  {
   "cell_type": "code",
   "execution_count": 6,
   "id": "d5e9b1e4",
   "metadata": {},
   "outputs": [
    {
     "name": "stdout",
     "output_type": "stream",
     "text": [
      "{'': 0,\n",
      " 'Alignment': 'Bad',\n",
      " 'Alive': 'Yes',\n",
      " 'Appearances': 15,\n",
      " 'Appearances Bins': '<100',\n",
      " 'Eyes': 'Blue',\n",
      " 'First_appeared': 'Jan-1985',\n",
      " 'Hair': 'White',\n",
      " 'Identity': 'Secret',\n",
      " 'Name': 'John Malone',\n",
      " 'Planet': 'New Earth',\n",
      " 'Sex': 'Male',\n",
      " 'Universe': 'DC',\n",
      " '_id': ObjectId('6512561747311611c7ab9396')}\n"
     ]
    }
   ],
   "source": [
    "#review a document in the comics collection\n",
    "pprint(db.comics.find_one())\n"
   ]
  },
  {
   "cell_type": "code",
   "execution_count": 7,
   "id": "97866c5f",
   "metadata": {},
   "outputs": [
    {
     "name": "stdout",
     "output_type": "stream",
     "text": [
      "{'': 0,\n",
      " '_id': ObjectId('65125f8c20c3be08ca66355a'),\n",
      " 'entity': 'DC',\n",
      " 'imdb_gross': '$0.00',\n",
      " 'imdb_rating': 5.7,\n",
      " 'mpa_rating': 'Passed',\n",
      " 'title': 'Superman and the Mole-Men',\n",
      " 'tomato_meter': 0,\n",
      " 'year': 1951}\n"
     ]
    }
   ],
   "source": [
    "#review a document in the films collection\n",
    "pprint(db2.films.find_one())"
   ]
  },
  {
   "cell_type": "code",
   "execution_count": 8,
   "id": "67cea198",
   "metadata": {},
   "outputs": [],
   "source": [
    "#assign collection to a variable\n",
    "character = db['comics']\n",
    "\n",
    "films=db2['films']"
   ]
  },
  {
   "cell_type": "markdown",
   "id": "9c21f67a",
   "metadata": {},
   "source": [
    "# Exploring character collection by analyzing  Question 1: \n",
    "How does a characters' identity influence their alignment(good, bad, neutral)?"
   ]
  },
  {
   "cell_type": "code",
   "execution_count": 9,
   "id": "c7c93659",
   "metadata": {},
   "outputs": [
    {
     "name": "stdout",
     "output_type": "stream",
     "text": [
      "There are 1231 good characters, 1732 bad characters , and 240 neutral characters that have a secret identity within the DC Universe.\n"
     ]
    }
   ],
   "source": [
    "# find out how many characters have a \"secret\" identity in the DC universe\n",
    "query = {'Alignment': 'Good', \n",
    "         'Identity': 'Secret', \n",
    "         'Universe': 'DC'\n",
    "        }\n",
    "query2 = {'Alignment': 'Bad', \n",
    "         'Identity': 'Secret', \n",
    "         'Universe': 'DC'\n",
    "        }\n",
    "\n",
    "query3 = {'Alignment': 'Neutral', \n",
    "         'Identity': 'Secret', \n",
    "         'Universe': 'DC'\n",
    "        }\n",
    "good_alignment = character.count_documents(query)\n",
    "bad_alignment= character.count_documents(query2)\n",
    "neutral_alignment =character.count_documents(query3)\n",
    "print(f'There are {good_alignment} good characters, {bad_alignment} bad characters , and {neutral_alignment} neutral characters that have a secret identity within the DC Universe.')"
   ]
  },
  {
   "cell_type": "code",
   "execution_count": 10,
   "id": "d5a17bd1",
   "metadata": {},
   "outputs": [
    {
     "name": "stdout",
     "output_type": "stream",
     "text": [
      "There are 2156 good characters, 4072 bad characters , and 1021 neutral characters that have a secret identity within the Marvel Universe.\n"
     ]
    }
   ],
   "source": [
    "# find out how many characters have a \"secret\" identity in the Marvel Universe\n",
    "query = {'Alignment': 'Good', \n",
    "         'Identity': 'Secret', \n",
    "         'Universe': 'Marvel'\n",
    "        }\n",
    "query2 = {'Alignment': 'Bad', \n",
    "         'Identity': 'Secret', \n",
    "         'Universe': 'Marvel'\n",
    "        }\n",
    "\n",
    "query3 = {'Alignment': 'Neutral', \n",
    "         'Identity': 'Secret', \n",
    "         'Universe': 'Marvel'\n",
    "        }\n",
    "good_alignment = character.count_documents(query)\n",
    "bad_alignment= character.count_documents(query2)\n",
    "neutral_alignment =character.count_documents(query3)\n",
    "print(f'There are {good_alignment} good characters, {bad_alignment} bad characters , and {neutral_alignment} neutral characters that have a secret identity within the Marvel Universe.')"
   ]
  },
  {
   "cell_type": "code",
   "execution_count": 11,
   "id": "4ffdb259",
   "metadata": {},
   "outputs": [
    {
     "name": "stdout",
     "output_type": "stream",
     "text": [
      "There are 1567 good characters, 1168 bad characters , and 351 neutral characters that have a public identity within the DC Universe.\n"
     ]
    }
   ],
   "source": [
    "#find out how many documents have a \"public\" identity within the DC Universe\n",
    "query = {'Alignment': 'Good', \n",
    "         'Identity': 'Public', \n",
    "         'Universe': 'DC'\n",
    "        }\n",
    "query2 = {'Alignment': 'Bad', \n",
    "         'Identity': 'Public', \n",
    "         'Universe': 'DC'\n",
    "        }\n",
    "\n",
    "query3 = {'Alignment': 'Neutral', \n",
    "         'Identity': 'Public', \n",
    "         'Universe': 'DC'\n",
    "        }\n",
    "good_alignment = character.count_documents(query)\n",
    "bad_alignment= character.count_documents(query2)\n",
    "neutral_alignment =character.count_documents(query3)\n",
    "print(f'There are {good_alignment} good characters, {bad_alignment} bad characters , and {neutral_alignment} neutral characters that have a public identity within the DC Universe.')"
   ]
  },
  {
   "cell_type": "code",
   "execution_count": 12,
   "id": "2def934f",
   "metadata": {},
   "outputs": [
    {
     "name": "stdout",
     "output_type": "stream",
     "text": [
      "There are 2155 good characters, 2442 bad characters , and 902 neutral characters that have a public identity within the Marvel Universe.\n"
     ]
    }
   ],
   "source": [
    "#find out how many documents have a \"public\" identity within the Marvel Universe\n",
    "query = {'Alignment': 'Good', \n",
    "         'Identity': 'Public', \n",
    "         'Universe': 'Marvel'\n",
    "        }\n",
    "query2 = {'Alignment': 'Bad', \n",
    "         'Identity': 'Public', \n",
    "         'Universe': 'Marvel'\n",
    "        }\n",
    "\n",
    "query3 = {'Alignment': 'Neutral', \n",
    "         'Identity': 'Public', \n",
    "         'Universe': 'Marvel'\n",
    "        }\n",
    "good_alignment = character.count_documents(query)\n",
    "bad_alignment= character.count_documents(query2)\n",
    "neutral_alignment =character.count_documents(query3)\n",
    "print(f'There are {good_alignment} good characters, {bad_alignment} bad characters , and {neutral_alignment} neutral characters that have a public identity within the Marvel Universe.')"
   ]
  },
  {
   "cell_type": "code",
   "execution_count": 13,
   "id": "7b4e6c5a",
   "metadata": {},
   "outputs": [
    {
     "name": "stdout",
     "output_type": "stream",
     "text": [
      "There are 76 good characters, 84 bad characters , and 19 neutral characters that have a non-dual identity within the DC Universe.\n"
     ]
    }
   ],
   "source": [
    "#find out how many documents have a \"non-dual\" identity within the DC Universe\n",
    "query = {'Alignment': 'Good', \n",
    "         'Identity': 'Non-dual', \n",
    "         'Universe': 'DC'\n",
    "        }\n",
    "query2 = {'Alignment': 'Bad', \n",
    "         'Identity': 'Non-dual', \n",
    "         'Universe': 'DC'\n",
    "        }\n",
    "\n",
    "query3 = {'Alignment': 'Neutral', \n",
    "         'Identity': 'Non-dual', \n",
    "         'Universe': 'DC'\n",
    "        }\n",
    "good_alignment = character.count_documents(query)\n",
    "bad_alignment= character.count_documents(query2)\n",
    "neutral_alignment =character.count_documents(query3)\n",
    "print(f'There are {good_alignment} good characters, {bad_alignment} bad characters , and {neutral_alignment} neutral characters that have a non-dual identity within the DC Universe.')"
   ]
  },
  {
   "cell_type": "code",
   "execution_count": 14,
   "id": "945ea27c",
   "metadata": {},
   "outputs": [
    {
     "name": "stdout",
     "output_type": "stream",
     "text": [
      "There are 762 good characters, 733 bad characters , and 398 neutral characters that have a non-dual identity within the Marvel Universe.\n"
     ]
    }
   ],
   "source": [
    "#find out how many documents have a \"non-dual\" identity within the Marvel Universe\n",
    "query = {'Alignment': 'Good', \n",
    "         'Identity': 'Non-dual', \n",
    "         'Universe': 'Marvel'\n",
    "        }\n",
    "query2 = {'Alignment': 'Bad', \n",
    "         'Identity': 'Non-dual', \n",
    "         'Universe': 'Marvel'\n",
    "        }\n",
    "\n",
    "query3 = {'Alignment': 'Neutral', \n",
    "         'Identity': 'Non-dual', \n",
    "         'Universe': 'Marvel'\n",
    "        }\n",
    "good_alignment = character.count_documents(query)\n",
    "bad_alignment= character.count_documents(query2)\n",
    "neutral_alignment =character.count_documents(query3)\n",
    "print(f'There are {good_alignment} good characters, {bad_alignment} bad characters , and {neutral_alignment} neutral characters that have a non-dual identity within the Marvel Universe.')"
   ]
  },
  {
   "cell_type": "markdown",
   "id": "a56ecfbe",
   "metadata": {},
   "source": [
    "# Exploring film collection"
   ]
  },
  {
   "cell_type": "code",
   "execution_count": 15,
   "id": "1ed56ecc",
   "metadata": {},
   "outputs": [
    {
     "name": "stdout",
     "output_type": "stream",
     "text": [
      "{'': 0,\n",
      " '_id': ObjectId('65125f8c20c3be08ca66355a'),\n",
      " 'entity': 'DC',\n",
      " 'imdb_gross': '$0.00',\n",
      " 'imdb_rating': 5.7,\n",
      " 'mpa_rating': 'Passed',\n",
      " 'title': 'Superman and the Mole-Men',\n",
      " 'tomato_meter': 0,\n",
      " 'year': 1951}\n"
     ]
    }
   ],
   "source": [
    "#review a document in the films collection\n",
    "pprint(db2.films.find_one())"
   ]
  },
  {
   "cell_type": "code",
   "execution_count": 17,
   "id": "8dbfe997",
   "metadata": {},
   "outputs": [
    {
     "name": "stdout",
     "output_type": "stream",
     "text": [
      "33\n"
     ]
    }
   ],
   "source": [
    "query = {'entity': 'DC'}\n",
    "results = films.count_documents(query)\n",
    "print(results)"
   ]
  },
  {
   "cell_type": "code",
   "execution_count": 19,
   "id": "6d42b0ef",
   "metadata": {},
   "outputs": [
    {
     "name": "stdout",
     "output_type": "stream",
     "text": [
      "57\n"
     ]
    }
   ],
   "source": [
    "query = {'entity': 'MARVEL'}\n",
    "results = films.count_documents(query)\n",
    "print(results)"
   ]
  },
  {
   "cell_type": "code",
   "execution_count": null,
   "id": "4f4a67da",
   "metadata": {},
   "outputs": [],
   "source": []
  }
 ],
 "metadata": {
  "kernelspec": {
   "display_name": "Python 3 (ipykernel)",
   "language": "python",
   "name": "python3"
  },
  "language_info": {
   "codemirror_mode": {
    "name": "ipython",
    "version": 3
   },
   "file_extension": ".py",
   "mimetype": "text/x-python",
   "name": "python",
   "nbconvert_exporter": "python",
   "pygments_lexer": "ipython3",
   "version": "3.10.11"
  }
 },
 "nbformat": 4,
 "nbformat_minor": 5
}
