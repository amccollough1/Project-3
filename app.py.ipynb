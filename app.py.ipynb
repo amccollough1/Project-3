{
 "cells": [
  {
   "cell_type": "code",
   "execution_count": 1,
   "id": "cb05c5ea",
   "metadata": {},
   "outputs": [
    {
     "name": "stdout",
     "output_type": "stream",
     "text": [
      " * Serving Flask app '__main__'\n",
      " * Debug mode: off\n"
     ]
    },
    {
     "name": "stderr",
     "output_type": "stream",
     "text": [
      "WARNING: This is a development server. Do not use it in a production deployment. Use a production WSGI server instead.\n",
      " * Running on http://127.0.0.1:5000\n",
      "Press CTRL+C to quit\n",
      "127.0.0.1 - - [19/Sep/2023 19:57:27] \"GET / HTTP/1.1\" 200 -\n",
      "127.0.0.1 - - [19/Sep/2023 19:57:27] \"GET /favicon.ico HTTP/1.1\" 404 -\n"
     ]
    }
   ],
   "source": [
    "from flask import Flask, jsonify, request\n",
    "from pymongo import MongoClient\n",
    "\n",
    "app = Flask(__name__)\n",
    "\n",
    "@app.route('/')\n",
    "def hello_world():\n",
    "    return 'Hello!'\n",
    "'app.run()"
   ]
  },
  {
   "cell_type": "code",
   "execution_count": null,
   "id": "24f015eb",
   "metadata": {},
   "outputs": [],
   "source": [
    "client1 = MongoClient('mongoDB client')\n",
    "db1 = client1['first_database_name']\n",
    "collection1 = db1['collection_name2']\n",
    "\n",
    "client2 = MongoClient('mongoDB client')\n",
    "db2 = client2['second_database_name'] \n",
    "collection2 = db2['collection_name2']"
   ]
  },
  {
   "cell_type": "code",
   "execution_count": null,
   "id": "ef1a44a0",
   "metadata": {},
   "outputs": [],
   "source": [
    "# How does a characters' identity influence their alignment(good, bad, neutral)?\n",
    "@app.route('/api/character_alignment', methods=['GET'])\n",
    "def get_character_alignment():\n",
    "    character_identity = request.args.get('identity')\n",
    "\n",
    "    character_data = collection.find_one({\"identity\": character_identity})\n",
    "\n",
    "    if character_data:\n",
    "        character_alignment = character_data.get(\"alignment\")\n",
    "\n",
    "        response = {\n",
    "            \"character_identity\": character_identity,\n",
    "            \"alignment\": character_alignment\n",
    "        }\n",
    "        return jsonify(response)\n",
    "    else:\n",
    "        return jsonify({\"error\": \"Character not found\"}), 404"
   ]
  },
  {
   "cell_type": "code",
   "execution_count": null,
   "id": "9ff2fd7c",
   "metadata": {},
   "outputs": [],
   "source": [
    "# How does the number of good vs bad characters changes over x period of years in both DC and Marvel?"
   ]
  },
  {
   "cell_type": "code",
   "execution_count": null,
   "id": "6f31df08",
   "metadata": {},
   "outputs": [],
   "source": [
    "# How does the number of appearances in DC/Marvel comics compare to the films released?"
   ]
  },
  {
   "cell_type": "code",
   "execution_count": null,
   "id": "2ea66647",
   "metadata": {},
   "outputs": [],
   "source": [
    "# Film Release : Is there a particular MPA rating that peforms better over another?"
   ]
  }
 ],
 "metadata": {
  "kernelspec": {
   "display_name": "Python 3 (ipykernel)",
   "language": "python",
   "name": "python3"
  },
  "language_info": {
   "codemirror_mode": {
    "name": "ipython",
    "version": 3
   },
   "file_extension": ".py",
   "mimetype": "text/x-python",
   "name": "python",
   "nbconvert_exporter": "python",
   "pygments_lexer": "ipython3",
   "version": "3.10.9"
  }
 },
 "nbformat": 4,
 "nbformat_minor": 5
}
