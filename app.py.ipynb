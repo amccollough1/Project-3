{
 "cells": [
  {
   "cell_type": "code",
   "execution_count": null,
   "id": "cb05c5ea",
   "metadata": {},
   "outputs": [],
   "source": [
    "from flask import Flask\n",
    "from pymongo import MongoClient\n",
    "\n",
    "app = Flask(__name__)\n",
    "\n",
    "@app.route('/')\n",
    "def hello_world():\n",
    "    return 'Hello!'\n",
    "'app.run()"
   ]
  },
  {
   "cell_type": "code",
   "execution_count": null,
   "id": "d94f86ee",
   "metadata": {},
   "outputs": [],
   "source": [
    "client1 = MongoClient('mongoDB client')\n",
    "db1 = client1['first_database_name']\n",
    "collection1 = db1['collection_name2']\n",
    "\n",
    "client2 = MongoClient('mongoDB client')\n",
    "db2 = client2['second_database_name'] \n",
    "collection2 = db2['collection_name2']"
   ]
  }
 ],
 "metadata": {
  "kernelspec": {
   "display_name": "Python 3 (ipykernel)",
   "language": "python",
   "name": "python3"
  },
  "language_info": {
   "codemirror_mode": {
    "name": "ipython",
    "version": 3
   },
   "file_extension": ".py",
   "mimetype": "text/x-python",
   "name": "python",
   "nbconvert_exporter": "python",
   "pygments_lexer": "ipython3",
   "version": "3.10.9"
  }
 },
 "nbformat": 4,
 "nbformat_minor": 5
}
